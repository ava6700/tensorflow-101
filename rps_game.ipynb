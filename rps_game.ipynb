{
  "nbformat": 4,
  "nbformat_minor": 0,
  "metadata": {
    "colab": {
      "name": "rps_game.ipynb",
      "provenance": [],
      "authorship_tag": "ABX9TyND/+4LDvyRjODXw7wUswWa",
      "include_colab_link": true
    },
    "kernelspec": {
      "name": "python3",
      "display_name": "Python 3"
    },
    "language_info": {
      "name": "python"
    },
    "accelerator": "GPU"
  },
  "cells": [
    {
      "cell_type": "markdown",
      "metadata": {
        "id": "view-in-github",
        "colab_type": "text"
      },
      "source": [
        "<a href=\"https://colab.research.google.com/github/ava6700/tensorflow-101/blob/master/rps_game.ipynb\" target=\"_parent\"><img src=\"https://colab.research.google.com/assets/colab-badge.svg\" alt=\"Open In Colab\"/></a>"
      ]
    },
    {
      "cell_type": "code",
      "metadata": {
        "id": "CUXVXcbe6-5M"
      },
      "source": [
        ""
      ],
      "execution_count": null,
      "outputs": []
    },
    {
      "cell_type": "code",
      "metadata": {
        "id": "wXjuJfkQ7ZFu"
      },
      "source": [
        ""
      ],
      "execution_count": null,
      "outputs": []
    },
    {
      "cell_type": "code",
      "metadata": {
        "colab": {
          "base_uri": "https://localhost:8080/"
        },
        "id": "Hs7hioxo7m8m",
        "outputId": "de16f10d-23e3-4b01-8c69-4860140fd8d7"
      },
      "source": [
        "!apt-get install -y xvfb # Install X Virtual Frame Buffer\n",
        "import os\n",
        "os.system('Xvfb :1 -screen 0 1600x1200x16  &')    # create virtual display with size 1600x1200 and 16 bit color. Color can be changed to 24 or 8\n",
        "os.environ['DISPLAY']=':1.0'    # tell X clients to use our virtual DISPLAY :1.0\n"
      ],
      "execution_count": null,
      "outputs": [
        {
          "output_type": "stream",
          "text": [
            "Reading package lists... Done\n",
            "Building dependency tree       \n",
            "Reading state information... Done\n",
            "The following NEW packages will be installed:\n",
            "  xvfb\n",
            "0 upgraded, 1 newly installed, 0 to remove and 30 not upgraded.\n",
            "Need to get 784 kB of archives.\n",
            "After this operation, 2,270 kB of additional disk space will be used.\n",
            "Get:1 http://archive.ubuntu.com/ubuntu bionic-updates/universe amd64 xvfb amd64 2:1.19.6-1ubuntu4.8 [784 kB]\n",
            "Fetched 784 kB in 1s (625 kB/s)\n",
            "Selecting previously unselected package xvfb.\n",
            "(Reading database ... 160980 files and directories currently installed.)\n",
            "Preparing to unpack .../xvfb_2%3a1.19.6-1ubuntu4.8_amd64.deb ...\n",
            "Unpacking xvfb (2:1.19.6-1ubuntu4.8) ...\n",
            "Setting up xvfb (2:1.19.6-1ubuntu4.8) ...\n",
            "Processing triggers for man-db (2.8.3-2ubuntu0.1) ...\n"
          ],
          "name": "stdout"
        }
      ]
    },
    {
      "cell_type": "code",
      "metadata": {
        "id": "i7QFhuLvCbHn"
      },
      "source": [
        ""
      ],
      "execution_count": null,
      "outputs": []
    },
    {
      "cell_type": "code",
      "metadata": {
        "id": "v1xjht_38FoQ"
      },
      "source": [
        ""
      ],
      "execution_count": null,
      "outputs": []
    },
    {
      "cell_type": "markdown",
      "metadata": {
        "id": "NCqZTZ9R8tiC"
      },
      "source": [
        "# Import libraries"
      ]
    },
    {
      "cell_type": "code",
      "metadata": {
        "colab": {
          "base_uri": "https://localhost:8080/"
        },
        "id": "ha2LX8l42g4r",
        "outputId": "3ea1c33d-87fa-45df-e38f-be8cbab53f79"
      },
      "source": [
        "!pip install win32gui"
      ],
      "execution_count": 3,
      "outputs": [
        {
          "output_type": "stream",
          "text": [
            "Collecting win32gui\n",
            "\u001b[?25l  Downloading https://files.pythonhosted.org/packages/b8/75/7bed82934e51903f9d48b26b3996161bb2dce1731607b4bb7fd26003ed3e/win32gui-221.5.tar.gz (605kB)\n",
            "\r\u001b[K     |▌                               | 10kB 20.7MB/s eta 0:00:01\r\u001b[K     |█                               | 20kB 19.6MB/s eta 0:00:01\r\u001b[K     |█▋                              | 30kB 15.2MB/s eta 0:00:01\r\u001b[K     |██▏                             | 40kB 13.3MB/s eta 0:00:01\r\u001b[K     |██▊                             | 51kB 8.7MB/s eta 0:00:01\r\u001b[K     |███▎                            | 61kB 9.5MB/s eta 0:00:01\r\u001b[K     |███▉                            | 71kB 9.3MB/s eta 0:00:01\r\u001b[K     |████▎                           | 81kB 10.2MB/s eta 0:00:01\r\u001b[K     |████▉                           | 92kB 9.6MB/s eta 0:00:01\r\u001b[K     |█████▍                          | 102kB 8.2MB/s eta 0:00:01\r\u001b[K     |██████                          | 112kB 8.2MB/s eta 0:00:01\r\u001b[K     |██████▌                         | 122kB 8.2MB/s eta 0:00:01\r\u001b[K     |███████                         | 133kB 8.2MB/s eta 0:00:01\r\u001b[K     |███████▋                        | 143kB 8.2MB/s eta 0:00:01\r\u001b[K     |████████▏                       | 153kB 8.2MB/s eta 0:00:01\r\u001b[K     |████████▋                       | 163kB 8.2MB/s eta 0:00:01\r\u001b[K     |█████████▏                      | 174kB 8.2MB/s eta 0:00:01\r\u001b[K     |█████████▊                      | 184kB 8.2MB/s eta 0:00:01\r\u001b[K     |██████████▎                     | 194kB 8.2MB/s eta 0:00:01\r\u001b[K     |██████████▉                     | 204kB 8.2MB/s eta 0:00:01\r\u001b[K     |███████████▍                    | 215kB 8.2MB/s eta 0:00:01\r\u001b[K     |████████████                    | 225kB 8.2MB/s eta 0:00:01\r\u001b[K     |████████████▌                   | 235kB 8.2MB/s eta 0:00:01\r\u001b[K     |█████████████                   | 245kB 8.2MB/s eta 0:00:01\r\u001b[K     |█████████████▌                  | 256kB 8.2MB/s eta 0:00:01\r\u001b[K     |██████████████                  | 266kB 8.2MB/s eta 0:00:01\r\u001b[K     |██████████████▋                 | 276kB 8.2MB/s eta 0:00:01\r\u001b[K     |███████████████▏                | 286kB 8.2MB/s eta 0:00:01\r\u001b[K     |███████████████▊                | 296kB 8.2MB/s eta 0:00:01\r\u001b[K     |████████████████▎               | 307kB 8.2MB/s eta 0:00:01\r\u001b[K     |████████████████▉               | 317kB 8.2MB/s eta 0:00:01\r\u001b[K     |█████████████████▎              | 327kB 8.2MB/s eta 0:00:01\r\u001b[K     |█████████████████▉              | 337kB 8.2MB/s eta 0:00:01\r\u001b[K     |██████████████████▍             | 348kB 8.2MB/s eta 0:00:01\r\u001b[K     |███████████████████             | 358kB 8.2MB/s eta 0:00:01\r\u001b[K     |███████████████████▌            | 368kB 8.2MB/s eta 0:00:01\r\u001b[K     |████████████████████            | 378kB 8.2MB/s eta 0:00:01\r\u001b[K     |████████████████████▋           | 389kB 8.2MB/s eta 0:00:01\r\u001b[K     |█████████████████████▏          | 399kB 8.2MB/s eta 0:00:01\r\u001b[K     |█████████████████████▋          | 409kB 8.2MB/s eta 0:00:01\r\u001b[K     |██████████████████████▏         | 419kB 8.2MB/s eta 0:00:01\r\u001b[K     |██████████████████████▊         | 430kB 8.2MB/s eta 0:00:01\r\u001b[K     |███████████████████████▎        | 440kB 8.2MB/s eta 0:00:01\r\u001b[K     |███████████████████████▉        | 450kB 8.2MB/s eta 0:00:01\r\u001b[K     |████████████████████████▍       | 460kB 8.2MB/s eta 0:00:01\r\u001b[K     |█████████████████████████       | 471kB 8.2MB/s eta 0:00:01\r\u001b[K     |█████████████████████████▌      | 481kB 8.2MB/s eta 0:00:01\r\u001b[K     |██████████████████████████      | 491kB 8.2MB/s eta 0:00:01\r\u001b[K     |██████████████████████████▌     | 501kB 8.2MB/s eta 0:00:01\r\u001b[K     |███████████████████████████     | 512kB 8.2MB/s eta 0:00:01\r\u001b[K     |███████████████████████████▋    | 522kB 8.2MB/s eta 0:00:01\r\u001b[K     |████████████████████████████▏   | 532kB 8.2MB/s eta 0:00:01\r\u001b[K     |████████████████████████████▊   | 542kB 8.2MB/s eta 0:00:01\r\u001b[K     |█████████████████████████████▎  | 552kB 8.2MB/s eta 0:00:01\r\u001b[K     |█████████████████████████████▊  | 563kB 8.2MB/s eta 0:00:01\r\u001b[K     |██████████████████████████████▎ | 573kB 8.2MB/s eta 0:00:01\r\u001b[K     |██████████████████████████████▉ | 583kB 8.2MB/s eta 0:00:01\r\u001b[K     |███████████████████████████████▍| 593kB 8.2MB/s eta 0:00:01\r\u001b[K     |████████████████████████████████| 604kB 8.2MB/s eta 0:00:01\r\u001b[K     |████████████████████████████████| 614kB 8.2MB/s \n",
            "\u001b[?25h  Installing build dependencies ... \u001b[?25l\u001b[?25hdone\n",
            "  Getting requirements to build wheel ... \u001b[?25l\u001b[?25herror\n",
            "\u001b[31mERROR: Command errored out with exit status 1: /usr/bin/python3 /usr/local/lib/python3.7/dist-packages/pip/_vendor/pep517/_in_process.py get_requires_for_build_wheel /tmp/tmpd2nw4g1p Check the logs for full command output.\u001b[0m\n"
          ],
          "name": "stdout"
        }
      ]
    },
    {
      "cell_type": "code",
      "metadata": {
        "id": "tSnnDXfu8LPy"
      },
      "source": [
        "from tkinter import*\n",
        "\n",
        "\n",
        "import random \n",
        "\n"
      ],
      "execution_count": 1,
      "outputs": []
    },
    {
      "cell_type": "code",
      "metadata": {
        "id": "iNQRXigH8LSV"
      },
      "source": [
        ""
      ],
      "execution_count": null,
      "outputs": []
    },
    {
      "cell_type": "markdown",
      "metadata": {
        "id": "hUyz6Sxn9L8a"
      },
      "source": [
        "# initialize window:"
      ]
    },
    {
      "cell_type": "code",
      "metadata": {
        "id": "sPr346R5UrYP"
      },
      "source": [
        ""
      ],
      "execution_count": null,
      "outputs": []
    },
    {
      "cell_type": "code",
      "metadata": {
        "colab": {
          "base_uri": "https://localhost:8080/",
          "height": 380
        },
        "id": "b2esuCfL8LUw",
        "outputId": "05c0c555-39a0-4317-b04e-2ff898a5e2d9"
      },
      "source": [
        "game = Tk()#use to initialize TKinter to create windows\n",
        "game.geometry(\"400x200\")#sets the windows heightand weight\n",
        "game.resizable(0,0)#sie of the window\n",
        "game.title('Rock paper Scissor')#title of the window\n",
        "game.config(bg = '#856ff8')#backgorund color"
      ],
      "execution_count": 4,
      "outputs": [
        {
          "output_type": "error",
          "ename": "TclError",
          "evalue": "ignored",
          "traceback": [
            "\u001b[0;31m---------------------------------------------------------------------------\u001b[0m",
            "\u001b[0;31mTclError\u001b[0m                                  Traceback (most recent call last)",
            "\u001b[0;32m<ipython-input-4-1af136eb018e>\u001b[0m in \u001b[0;36m<module>\u001b[0;34m()\u001b[0m\n\u001b[0;32m----> 1\u001b[0;31m \u001b[0mgame\u001b[0m \u001b[0;34m=\u001b[0m \u001b[0mTk\u001b[0m\u001b[0;34m(\u001b[0m\u001b[0;34m)\u001b[0m\u001b[0;31m#use to initialize TKinter to create windows\u001b[0m\u001b[0;34m\u001b[0m\u001b[0;34m\u001b[0m\u001b[0m\n\u001b[0m\u001b[1;32m      2\u001b[0m \u001b[0mgame\u001b[0m\u001b[0;34m.\u001b[0m\u001b[0mgeometry\u001b[0m\u001b[0;34m(\u001b[0m\u001b[0;34m\"400x200\"\u001b[0m\u001b[0;34m)\u001b[0m\u001b[0;31m#sets the windows heightand weight\u001b[0m\u001b[0;34m\u001b[0m\u001b[0;34m\u001b[0m\u001b[0m\n\u001b[1;32m      3\u001b[0m \u001b[0mgame\u001b[0m\u001b[0;34m.\u001b[0m\u001b[0mresizable\u001b[0m\u001b[0;34m(\u001b[0m\u001b[0;36m0\u001b[0m\u001b[0;34m,\u001b[0m\u001b[0;36m0\u001b[0m\u001b[0;34m)\u001b[0m\u001b[0;31m#sie of the window\u001b[0m\u001b[0;34m\u001b[0m\u001b[0;34m\u001b[0m\u001b[0m\n\u001b[1;32m      4\u001b[0m \u001b[0mgame\u001b[0m\u001b[0;34m.\u001b[0m\u001b[0mtitle\u001b[0m\u001b[0;34m(\u001b[0m\u001b[0;34m'Rock paper Scissor'\u001b[0m\u001b[0;34m)\u001b[0m\u001b[0;31m#title of the window\u001b[0m\u001b[0;34m\u001b[0m\u001b[0;34m\u001b[0m\u001b[0m\n\u001b[1;32m      5\u001b[0m \u001b[0mgame\u001b[0m\u001b[0;34m.\u001b[0m\u001b[0mconfig\u001b[0m\u001b[0;34m(\u001b[0m\u001b[0mbg\u001b[0m \u001b[0;34m=\u001b[0m \u001b[0;34m'#856ff8'\u001b[0m\u001b[0;34m)\u001b[0m\u001b[0;31m#backgorund color\u001b[0m\u001b[0;34m\u001b[0m\u001b[0;34m\u001b[0m\u001b[0m\n",
            "\u001b[0;32m/usr/lib/python3.7/tkinter/__init__.py\u001b[0m in \u001b[0;36m__init__\u001b[0;34m(self, screenName, baseName, className, useTk, sync, use)\u001b[0m\n\u001b[1;32m   2021\u001b[0m                 \u001b[0mbaseName\u001b[0m \u001b[0;34m=\u001b[0m \u001b[0mbaseName\u001b[0m \u001b[0;34m+\u001b[0m \u001b[0mext\u001b[0m\u001b[0;34m\u001b[0m\u001b[0;34m\u001b[0m\u001b[0m\n\u001b[1;32m   2022\u001b[0m         \u001b[0minteractive\u001b[0m \u001b[0;34m=\u001b[0m \u001b[0;36m0\u001b[0m\u001b[0;34m\u001b[0m\u001b[0;34m\u001b[0m\u001b[0m\n\u001b[0;32m-> 2023\u001b[0;31m         \u001b[0mself\u001b[0m\u001b[0;34m.\u001b[0m\u001b[0mtk\u001b[0m \u001b[0;34m=\u001b[0m \u001b[0m_tkinter\u001b[0m\u001b[0;34m.\u001b[0m\u001b[0mcreate\u001b[0m\u001b[0;34m(\u001b[0m\u001b[0mscreenName\u001b[0m\u001b[0;34m,\u001b[0m \u001b[0mbaseName\u001b[0m\u001b[0;34m,\u001b[0m \u001b[0mclassName\u001b[0m\u001b[0;34m,\u001b[0m \u001b[0minteractive\u001b[0m\u001b[0;34m,\u001b[0m \u001b[0mwantobjects\u001b[0m\u001b[0;34m,\u001b[0m \u001b[0museTk\u001b[0m\u001b[0;34m,\u001b[0m \u001b[0msync\u001b[0m\u001b[0;34m,\u001b[0m \u001b[0muse\u001b[0m\u001b[0;34m)\u001b[0m\u001b[0;34m\u001b[0m\u001b[0;34m\u001b[0m\u001b[0m\n\u001b[0m\u001b[1;32m   2024\u001b[0m         \u001b[0;32mif\u001b[0m \u001b[0museTk\u001b[0m\u001b[0;34m:\u001b[0m\u001b[0;34m\u001b[0m\u001b[0;34m\u001b[0m\u001b[0m\n\u001b[1;32m   2025\u001b[0m             \u001b[0mself\u001b[0m\u001b[0;34m.\u001b[0m\u001b[0m_loadtk\u001b[0m\u001b[0;34m(\u001b[0m\u001b[0;34m)\u001b[0m\u001b[0;34m\u001b[0m\u001b[0;34m\u001b[0m\u001b[0m\n",
            "\u001b[0;31mTclError\u001b[0m: no display name and no $DISPLAY environment variable"
          ]
        }
      ]
    },
    {
      "cell_type": "code",
      "metadata": {
        "id": "DLNwblc_HTOs"
      },
      "source": [
        "Label(game, text = 'Rock, Paper ,Scissors' , font='arial 20 bold', bg = 'seashell2').pack()"
      ],
      "execution_count": null,
      "outputs": []
    },
    {
      "cell_type": "code",
      "metadata": {
        "id": "Kj6O36dkHpJG"
      },
      "source": [
        ""
      ],
      "execution_count": null,
      "outputs": []
    },
    {
      "cell_type": "markdown",
      "metadata": {
        "id": "zGKN0yifHqbP"
      },
      "source": [
        "# For user choice"
      ]
    },
    {
      "cell_type": "code",
      "metadata": {
        "id": "GG6WPz6n8LXb"
      },
      "source": [
        "user_take =StringVar()#stores the choice that the users enters\n",
        "Label(game, text = 'What you prefer? rock, paper, scissor',\n",
        "font='arial 16 bold', bg = 'green').place(x = 20, y = 70)\n",
        "Entry(game, font = 'arial 15', textvariable = user_take , bg = 'antiquewhite2').place(x=90 , y = 130)"
      ],
      "execution_count": null,
      "outputs": []
    },
    {
      "cell_type": "code",
      "metadata": {
        "id": "n62QwNWG8LZ_"
      },
      "source": [
        ""
      ],
      "execution_count": null,
      "outputs": []
    },
    {
      "cell_type": "markdown",
      "metadata": {
        "id": "8TYgVSmKHxIm"
      },
      "source": [
        "#For computer choice"
      ]
    },
    {
      "cell_type": "code",
      "metadata": {
        "id": "GWiFbXwJ8LdW"
      },
      "source": [
        "comp_pick = random.randint(1,3)#random.randint function will randomly take any nuber from the given number\n",
        "if comp_pick == 1:\n",
        "  comp_pick = 'rock'\n",
        "elif comp_pick == 2:\n",
        "  comp_pick = 'paper'\n",
        "else:\n",
        "  comp_pick =='scissor'  "
      ],
      "execution_count": null,
      "outputs": []
    },
    {
      "cell_type": "code",
      "metadata": {
        "id": "0vsPeUu48JOI"
      },
      "source": [
        ""
      ],
      "execution_count": null,
      "outputs": []
    },
    {
      "cell_type": "markdown",
      "metadata": {
        "id": "smHlUNUyI2nk"
      },
      "source": [
        "# Starting game:\n"
      ]
    },
    {
      "cell_type": "code",
      "metadata": {
        "id": "PlGUA_l2I7bK"
      },
      "source": [
        "Result = StringVar()\n",
        "def game_to_play():\n",
        "  user_pick = user_take.get()\n",
        "  if user_pick == comp_pick:\n",
        "    Result.set('Try Again,you both pick same') \n",
        "  elif user_pick =='rock'and comp_pick =='paper':\n",
        "      Result.set('ohho! you lose,computer win')\n",
        "   \n",
        "  elif user_pick == 'rock' and comp_pick == 'scissors':\n",
        "        Result.set('you win,computer select scissors')\n",
        "  elif user_pick == 'paper' and comp_pick == 'scissors':\n",
        "        Result.set('ohho!you lose,computer select scissors')\n",
        "  elif user_pick == 'paper' and comp_pick == 'rock':\n",
        "        Result.set('you win,computer select rock')\n",
        "  elif user_pick == 'scissors' and comp_pick == 'rock':\n",
        "        Result.set('ohho! you lose,computer select rock')\n",
        "  elif user_pick == 'scissors' and comp_pick == 'paper':\n",
        "        Result.set('you win ,computer select paper')\n",
        "  else:\n",
        "        Result.set('invalid: choose any one -- rock, paper, scissors')\n",
        "\n"
      ],
      "execution_count": null,
      "outputs": []
    },
    {
      "cell_type": "code",
      "metadata": {
        "id": "ctDZA3i5OCFA"
      },
      "source": [
        ""
      ],
      "execution_count": null,
      "outputs": []
    },
    {
      "cell_type": "markdown",
      "metadata": {
        "id": "d0lUlZYKOaU6"
      },
      "source": [
        "# Function to reset"
      ]
    },
    {
      "cell_type": "code",
      "metadata": {
        "id": "tC9FhPiPOjcE"
      },
      "source": [
        "def Reset():\n",
        "  Result.set(\"\")\n",
        "  user_take.set(\"\")"
      ],
      "execution_count": null,
      "outputs": []
    },
    {
      "cell_type": "code",
      "metadata": {
        "id": "2EkLzuMaOxdN"
      },
      "source": [
        ""
      ],
      "execution_count": null,
      "outputs": []
    },
    {
      "cell_type": "markdown",
      "metadata": {
        "id": "cGIjjwNcOy5P"
      },
      "source": [
        "# End Game"
      ]
    },
    {
      "cell_type": "code",
      "metadata": {
        "id": "_Aney_NHO2mP"
      },
      "source": [
        "def Exit():\n",
        "  game.destroy()#game.destroy() will quit the game by stopping the mainloop()\n"
      ],
      "execution_count": null,
      "outputs": []
    },
    {
      "cell_type": "code",
      "metadata": {
        "id": "yxoS7EzUPC3u"
      },
      "source": [
        ""
      ],
      "execution_count": null,
      "outputs": []
    },
    {
      "cell_type": "markdown",
      "metadata": {
        "id": "plqk6sicPP3k"
      },
      "source": [
        "# Game Buttons"
      ]
    },
    {
      "cell_type": "code",
      "metadata": {
        "colab": {
          "base_uri": "https://localhost:8080/",
          "height": 296
        },
        "id": "yRrQ4LK0Pb-Q",
        "outputId": "5ba28c50-92fc-499b-85bf-b4c00d86eb9b"
      },
      "source": [
        "Entry(game, font = 'arial 10 bold', textvariable = Result, bg ='antiquewhite2',width = 50,).place(x=25, y = 250)\n",
        "Button(game, font = 'arial 13 bold', text = 'PLAY'  ,padx =5,bg ='seashell4' ,command = game_to_play).place(x=150,y=190)\n",
        "Button(game, font = 'arial 13 bold', text = 'RESET'  ,padx =5,bg ='seashell4' ,command = Reset).place(x=70,y=310)\n",
        "Button(game, font = 'arial 13 bold', text = 'EXIT'  ,padx =5,bg ='seashell4' ,command = Exit).place(x=230,y=310)\n",
        "game.mainloop()"
      ],
      "execution_count": 5,
      "outputs": [
        {
          "output_type": "error",
          "ename": "NameError",
          "evalue": "ignored",
          "traceback": [
            "\u001b[0;31m---------------------------------------------------------------------------\u001b[0m",
            "\u001b[0;31mNameError\u001b[0m                                 Traceback (most recent call last)",
            "\u001b[0;32m<ipython-input-5-586036d84399>\u001b[0m in \u001b[0;36m<module>\u001b[0;34m()\u001b[0m\n\u001b[0;32m----> 1\u001b[0;31m \u001b[0mEntry\u001b[0m\u001b[0;34m(\u001b[0m\u001b[0mgame\u001b[0m\u001b[0;34m,\u001b[0m \u001b[0mfont\u001b[0m \u001b[0;34m=\u001b[0m \u001b[0;34m'arial 10 bold'\u001b[0m\u001b[0;34m,\u001b[0m \u001b[0mtextvariable\u001b[0m \u001b[0;34m=\u001b[0m \u001b[0mResult\u001b[0m\u001b[0;34m,\u001b[0m \u001b[0mbg\u001b[0m \u001b[0;34m=\u001b[0m\u001b[0;34m'antiquewhite2'\u001b[0m\u001b[0;34m,\u001b[0m\u001b[0mwidth\u001b[0m \u001b[0;34m=\u001b[0m \u001b[0;36m50\u001b[0m\u001b[0;34m,\u001b[0m\u001b[0;34m)\u001b[0m\u001b[0;34m.\u001b[0m\u001b[0mplace\u001b[0m\u001b[0;34m(\u001b[0m\u001b[0mx\u001b[0m\u001b[0;34m=\u001b[0m\u001b[0;36m25\u001b[0m\u001b[0;34m,\u001b[0m \u001b[0my\u001b[0m \u001b[0;34m=\u001b[0m \u001b[0;36m250\u001b[0m\u001b[0;34m)\u001b[0m\u001b[0;34m\u001b[0m\u001b[0;34m\u001b[0m\u001b[0m\n\u001b[0m\u001b[1;32m      2\u001b[0m \u001b[0mButton\u001b[0m\u001b[0;34m(\u001b[0m\u001b[0mgame\u001b[0m\u001b[0;34m,\u001b[0m \u001b[0mfont\u001b[0m \u001b[0;34m=\u001b[0m \u001b[0;34m'arial 13 bold'\u001b[0m\u001b[0;34m,\u001b[0m \u001b[0mtext\u001b[0m \u001b[0;34m=\u001b[0m \u001b[0;34m'PLAY'\u001b[0m  \u001b[0;34m,\u001b[0m\u001b[0mpadx\u001b[0m \u001b[0;34m=\u001b[0m\u001b[0;36m5\u001b[0m\u001b[0;34m,\u001b[0m\u001b[0mbg\u001b[0m \u001b[0;34m=\u001b[0m\u001b[0;34m'seashell4'\u001b[0m \u001b[0;34m,\u001b[0m\u001b[0mcommand\u001b[0m \u001b[0;34m=\u001b[0m \u001b[0mgame_to_play\u001b[0m\u001b[0;34m)\u001b[0m\u001b[0;34m.\u001b[0m\u001b[0mplace\u001b[0m\u001b[0;34m(\u001b[0m\u001b[0mx\u001b[0m\u001b[0;34m=\u001b[0m\u001b[0;36m150\u001b[0m\u001b[0;34m,\u001b[0m\u001b[0my\u001b[0m\u001b[0;34m=\u001b[0m\u001b[0;36m190\u001b[0m\u001b[0;34m)\u001b[0m\u001b[0;34m\u001b[0m\u001b[0;34m\u001b[0m\u001b[0m\n\u001b[1;32m      3\u001b[0m \u001b[0mButton\u001b[0m\u001b[0;34m(\u001b[0m\u001b[0mgame\u001b[0m\u001b[0;34m,\u001b[0m \u001b[0mfont\u001b[0m \u001b[0;34m=\u001b[0m \u001b[0;34m'arial 13 bold'\u001b[0m\u001b[0;34m,\u001b[0m \u001b[0mtext\u001b[0m \u001b[0;34m=\u001b[0m \u001b[0;34m'RESET'\u001b[0m  \u001b[0;34m,\u001b[0m\u001b[0mpadx\u001b[0m \u001b[0;34m=\u001b[0m\u001b[0;36m5\u001b[0m\u001b[0;34m,\u001b[0m\u001b[0mbg\u001b[0m \u001b[0;34m=\u001b[0m\u001b[0;34m'seashell4'\u001b[0m \u001b[0;34m,\u001b[0m\u001b[0mcommand\u001b[0m \u001b[0;34m=\u001b[0m \u001b[0mReset\u001b[0m\u001b[0;34m)\u001b[0m\u001b[0;34m.\u001b[0m\u001b[0mplace\u001b[0m\u001b[0;34m(\u001b[0m\u001b[0mx\u001b[0m\u001b[0;34m=\u001b[0m\u001b[0;36m70\u001b[0m\u001b[0;34m,\u001b[0m\u001b[0my\u001b[0m\u001b[0;34m=\u001b[0m\u001b[0;36m310\u001b[0m\u001b[0;34m)\u001b[0m\u001b[0;34m\u001b[0m\u001b[0;34m\u001b[0m\u001b[0m\n\u001b[1;32m      4\u001b[0m \u001b[0mButton\u001b[0m\u001b[0;34m(\u001b[0m\u001b[0mgame\u001b[0m\u001b[0;34m,\u001b[0m \u001b[0mfont\u001b[0m \u001b[0;34m=\u001b[0m \u001b[0;34m'arial 13 bold'\u001b[0m\u001b[0;34m,\u001b[0m \u001b[0mtext\u001b[0m \u001b[0;34m=\u001b[0m \u001b[0;34m'EXIT'\u001b[0m  \u001b[0;34m,\u001b[0m\u001b[0mpadx\u001b[0m \u001b[0;34m=\u001b[0m\u001b[0;36m5\u001b[0m\u001b[0;34m,\u001b[0m\u001b[0mbg\u001b[0m \u001b[0;34m=\u001b[0m\u001b[0;34m'seashell4'\u001b[0m \u001b[0;34m,\u001b[0m\u001b[0mcommand\u001b[0m \u001b[0;34m=\u001b[0m \u001b[0mExit\u001b[0m\u001b[0;34m)\u001b[0m\u001b[0;34m.\u001b[0m\u001b[0mplace\u001b[0m\u001b[0;34m(\u001b[0m\u001b[0mx\u001b[0m\u001b[0;34m=\u001b[0m\u001b[0;36m230\u001b[0m\u001b[0;34m,\u001b[0m\u001b[0my\u001b[0m\u001b[0;34m=\u001b[0m\u001b[0;36m310\u001b[0m\u001b[0;34m)\u001b[0m\u001b[0;34m\u001b[0m\u001b[0;34m\u001b[0m\u001b[0m\n\u001b[1;32m      5\u001b[0m \u001b[0mgame\u001b[0m\u001b[0;34m.\u001b[0m\u001b[0mmainloop\u001b[0m\u001b[0;34m(\u001b[0m\u001b[0;34m)\u001b[0m\u001b[0;34m\u001b[0m\u001b[0;34m\u001b[0m\u001b[0m\n",
            "\u001b[0;31mNameError\u001b[0m: name 'game' is not defined"
          ]
        }
      ]
    },
    {
      "cell_type": "code",
      "metadata": {
        "id": "MTWmjAs6PiuU"
      },
      "source": [
        ""
      ],
      "execution_count": null,
      "outputs": []
    }
  ]
}